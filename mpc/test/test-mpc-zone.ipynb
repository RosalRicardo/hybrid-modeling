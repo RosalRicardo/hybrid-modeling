{
 "cells": [
  {
   "cell_type": "code",
   "execution_count": 2,
   "metadata": {},
   "outputs": [
    {
     "name": "stdout",
     "output_type": "stream",
     "text": [
      "Defaulting to user installation because normal site-packages is not writeable\n",
      "Requirement already satisfied: casadi in /home/ricardorosal/.local/lib/python3.10/site-packages (3.6.3)\n",
      "Requirement already satisfied: numpy in /home/ricardorosal/.local/lib/python3.10/site-packages (from casadi) (1.23.2)\n",
      "Defaulting to user installation because normal site-packages is not writeable\n",
      "Requirement already satisfied: do_mpc in /home/ricardorosal/.local/lib/python3.10/site-packages (4.6.2)\n",
      "Requirement already satisfied: casadi>=3.6.0 in /home/ricardorosal/.local/lib/python3.10/site-packages (from do_mpc) (3.6.3)\n",
      "Requirement already satisfied: scipy in /home/ricardorosal/.local/lib/python3.10/site-packages (from do_mpc) (1.9.1)\n",
      "Requirement already satisfied: numpy in /home/ricardorosal/.local/lib/python3.10/site-packages (from do_mpc) (1.23.2)\n",
      "Requirement already satisfied: matplotlib in /home/ricardorosal/.local/lib/python3.10/site-packages (from do_mpc) (3.5.3)\n",
      "Requirement already satisfied: kiwisolver>=1.0.1 in /home/ricardorosal/.local/lib/python3.10/site-packages (from matplotlib->do_mpc) (1.4.4)\n",
      "Requirement already satisfied: python-dateutil>=2.7 in /home/ricardorosal/.local/lib/python3.10/site-packages (from matplotlib->do_mpc) (2.8.2)\n",
      "Requirement already satisfied: fonttools>=4.22.0 in /home/ricardorosal/.local/lib/python3.10/site-packages (from matplotlib->do_mpc) (4.37.1)\n",
      "Requirement already satisfied: packaging>=20.0 in /home/ricardorosal/.local/lib/python3.10/site-packages (from matplotlib->do_mpc) (21.3)\n",
      "Requirement already satisfied: pyparsing>=2.2.1 in /usr/lib/python3/dist-packages (from matplotlib->do_mpc) (2.4.7)\n",
      "Requirement already satisfied: pillow>=6.2.0 in /usr/lib/python3/dist-packages (from matplotlib->do_mpc) (9.0.1)\n",
      "Requirement already satisfied: cycler>=0.10 in /home/ricardorosal/.local/lib/python3.10/site-packages (from matplotlib->do_mpc) (0.11.0)\n",
      "Requirement already satisfied: six>=1.5 in /usr/lib/python3/dist-packages (from python-dateutil>=2.7->matplotlib->do_mpc) (1.16.0)\n"
     ]
    },
    {
     "name": "stderr",
     "output_type": "stream",
     "text": [
      "/home/ricardorosal/.local/lib/python3.10/site-packages/do_mpc/sysid/__init__.py:15: UserWarning: The ONNX feature is not available. Please install the full version of do-mpc to access this feature.\n",
      "  warnings.warn('The ONNX feature is not available. Please install the full version of do-mpc to access this feature.')\n",
      "/home/ricardorosal/.local/lib/python3.10/site-packages/do_mpc/opcua/__init__.py:14: UserWarning: The opcua feature is not available. Please install the full version of do-mpc to access this feature.\n",
      "  warnings.warn('The opcua feature is not available. Please install the full version of do-mpc to access this feature.')\n"
     ]
    }
   ],
   "source": [
    "!pip install casadi \n",
    "!pip install do_mpc \n",
    "import numpy as np\n",
    "import sys\n",
    "from casadi import *\n",
    "\n",
    "# Add do_mpc to path. This is not necessary if it was installed via pip\n",
    "import os\n",
    "rel_do_mpc_path = os.path.join('..','..','..')\n",
    "sys.path.append(rel_do_mpc_path)\n",
    "\n",
    "# Import do_mpc package:\n",
    "import do_mpc"
   ]
  },
  {
   "cell_type": "code",
   "execution_count": 3,
   "metadata": {},
   "outputs": [],
   "source": [
    "model_type = 'continuous' # either 'discrete' or 'continuous'\n",
    "model = do_mpc.model.Model(model_type)"
   ]
  },
  {
   "cell_type": "code",
   "execution_count": 4,
   "metadata": {},
   "outputs": [],
   "source": [
    "# States struct (optimization variables):\n",
    "ZNT = model.set_variable('_x',  'X_s')\n"
   ]
  },
  {
   "cell_type": "code",
   "execution_count": 50,
   "metadata": {},
   "outputs": [],
   "source": [
    "# Input struct (optimization variables):\n",
    "CLGO = model.set_variable('_u',  'inp')"
   ]
  },
  {
   "cell_type": "code",
   "execution_count": 51,
   "metadata": {},
   "outputs": [],
   "source": [
    "# Certain parameters\n",
    "mu_m  = 0.02\n",
    "K_m   = 0.05\n",
    "K_i   = 5.0\n",
    "v_par = 0.004\n",
    "Y_p   = 1.2\n",
    "\n",
    "# Uncertain parameters:\n",
    "Y_x  = model.set_variable('_p',  'Y_x')\n",
    "S_in = model.set_variable('_p', 'S_in')"
   ]
  },
  {
   "cell_type": "code",
   "execution_count": 52,
   "metadata": {},
   "outputs": [],
   "source": [
    "# Auxiliary term\n",
    "mu_S = mu_m*S_s/(K_m+S_s+(S_s**2/K_i))\n",
    "\n",
    "# Differential equations\n",
    "model.set_rhs('X_s', mu_S*X_s - inp/V_s*X_s)\n",
    "model.set_rhs('S_s', -mu_S*X_s/Y_x - v_par*X_s/Y_p + inp/V_s*(S_in-S_s))\n",
    "model.set_rhs('P_s', v_par*X_s - inp/V_s*P_s)\n",
    "model.set_rhs('V_s', inp)"
   ]
  },
  {
   "cell_type": "code",
   "execution_count": 53,
   "metadata": {},
   "outputs": [],
   "source": [
    "# Build the model\n",
    "model.setup()"
   ]
  },
  {
   "cell_type": "code",
   "execution_count": 54,
   "metadata": {},
   "outputs": [],
   "source": [
    "mpc = do_mpc.controller.MPC(model)"
   ]
  },
  {
   "cell_type": "code",
   "execution_count": 55,
   "metadata": {},
   "outputs": [],
   "source": [
    "setup_mpc = {\n",
    "    'n_horizon': 20,\n",
    "    'n_robust': 1,\n",
    "    'open_loop': 0,\n",
    "    't_step': 1.0,\n",
    "    'state_discretization': 'collocation',\n",
    "    'collocation_type': 'radau',\n",
    "    'collocation_deg': 2,\n",
    "    'collocation_ni': 2,\n",
    "    'store_full_solution': True,\n",
    "    # Use MA27 linear solver in ipopt for faster calculations:\n",
    "    #'nlpsol_opts': {'ipopt.linear_solver': 'MA27'}\n",
    "}\n",
    "\n",
    "mpc.set_param(**setup_mpc)"
   ]
  },
  {
   "cell_type": "code",
   "execution_count": 56,
   "metadata": {},
   "outputs": [],
   "source": [
    "mterm = -model.x['P_s'] # terminal cost\n",
    "lterm = -model.x['P_s'] # stage cost\n",
    "\n",
    "mpc.set_objective(mterm=mterm, lterm=lterm)\n",
    "mpc.set_rterm(inp=1.0) # penalty on input changes"
   ]
  },
  {
   "cell_type": "code",
   "execution_count": 57,
   "metadata": {},
   "outputs": [],
   "source": [
    "# lower bounds of the states\n",
    "mpc.bounds['lower', '_x', 'X_s'] = 0.0\n",
    "mpc.bounds['lower', '_x', 'S_s'] = -0.01\n",
    "mpc.bounds['lower', '_x', 'P_s'] = 0.0\n",
    "mpc.bounds['lower', '_x', 'V_s'] = 0.0\n",
    "\n",
    "# upper bounds of the states\n",
    "mpc.bounds['upper', '_x','X_s'] = 3.7\n",
    "mpc.bounds['upper', '_x','P_s'] = 3.0\n",
    "\n",
    "# upper and lower bounds of the control input\n",
    "mpc.bounds['lower','_u','inp'] = 0.0\n",
    "mpc.bounds['upper','_u','inp'] = 0.2"
   ]
  },
  {
   "cell_type": "code",
   "execution_count": 58,
   "metadata": {},
   "outputs": [],
   "source": [
    "Y_x_values = np.array([0.5, 0.4, 0.3])\n",
    "S_in_values = np.array([200.0, 220.0, 180.0])\n",
    "\n",
    "mpc.set_uncertainty_values(Y_x = Y_x_values, S_in = S_in_values)"
   ]
  },
  {
   "cell_type": "code",
   "execution_count": 59,
   "metadata": {},
   "outputs": [],
   "source": [
    "mpc.setup()"
   ]
  },
  {
   "cell_type": "code",
   "execution_count": 60,
   "metadata": {},
   "outputs": [],
   "source": [
    "estimator = do_mpc.estimator.StateFeedback(model)"
   ]
  },
  {
   "cell_type": "code",
   "execution_count": 61,
   "metadata": {},
   "outputs": [],
   "source": [
    "simulator = do_mpc.simulator.Simulator(model)"
   ]
  },
  {
   "cell_type": "code",
   "execution_count": 62,
   "metadata": {},
   "outputs": [],
   "source": [
    "params_simulator = {\n",
    "    'integration_tool': 'cvodes',\n",
    "    'abstol': 1e-10,\n",
    "    'reltol': 1e-10,\n",
    "    't_step': 1.0\n",
    "}\n",
    "\n",
    "simulator.set_param(**params_simulator)"
   ]
  },
  {
   "cell_type": "code",
   "execution_count": 63,
   "metadata": {},
   "outputs": [],
   "source": [
    "p_num = simulator.get_p_template()"
   ]
  },
  {
   "cell_type": "code",
   "execution_count": 64,
   "metadata": {},
   "outputs": [],
   "source": [
    "p_num['Y_x'] = 0.4\n",
    "p_num['S_in'] = 200.0\n",
    "\n",
    "# function definition\n",
    "def p_fun(t_now):\n",
    "    return p_num\n",
    "\n",
    "# Set the user-defined function above as the function for the realization of the uncertain parameters\n",
    "simulator.set_p_fun(p_fun)"
   ]
  },
  {
   "cell_type": "code",
   "execution_count": 65,
   "metadata": {},
   "outputs": [],
   "source": [
    "simulator.setup()"
   ]
  },
  {
   "cell_type": "code",
   "execution_count": 66,
   "metadata": {},
   "outputs": [],
   "source": [
    "# Initial state\n",
    "X_s_0 = 1.0 # Concentration biomass [mol/l]\n",
    "S_s_0 = 0.5 # Concentration substrate [mol/l]\n",
    "P_s_0 = 0.0 # Concentration product [mol/l]\n",
    "V_s_0 = 120.0 # Volume inside tank [m^3]\n",
    "x0 = np.array([X_s_0, S_s_0, P_s_0, V_s_0])\n",
    "\n",
    "# Set for controller, simulator and estimator\n",
    "mpc.x0 = x0\n",
    "simulator.x0 = x0\n",
    "estimator.x0 = x0\n",
    "mpc.set_initial_guess()"
   ]
  },
  {
   "cell_type": "code",
   "execution_count": 67,
   "metadata": {},
   "outputs": [
    {
     "name": "stderr",
     "output_type": "stream",
     "text": [
      "/tmp/ipykernel_21627/3625924280.py:5: MatplotlibDeprecationWarning: Support for setting an rcParam that expects a str value to a non-str value is deprecated since 3.5 and support will be removed two minor releases later.\n",
      "  rcParams['text.latex.preamble'] = [r'\\usepackage{amsmath}',r'\\usepackage{siunitx}']\n"
     ]
    }
   ],
   "source": [
    "import matplotlib.pyplot as plt\n",
    "plt.ion()\n",
    "from matplotlib import rcParams\n",
    "rcParams['text.usetex'] = True\n",
    "rcParams['text.latex.preamble'] = [r'\\usepackage{amsmath}',r'\\usepackage{siunitx}']\n",
    "rcParams['axes.grid'] = True\n",
    "rcParams['lines.linewidth'] = 2.0\n",
    "rcParams['axes.labelsize'] = 'xx-large'\n",
    "rcParams['xtick.labelsize'] = 'xx-large'\n",
    "rcParams['ytick.labelsize'] = 'xx-large'"
   ]
  },
  {
   "cell_type": "code",
   "execution_count": 68,
   "metadata": {},
   "outputs": [],
   "source": [
    "mpc_graphics = do_mpc.graphics.Graphics(mpc.data)\n",
    "sim_graphics = do_mpc.graphics.Graphics(simulator.data)"
   ]
  },
  {
   "cell_type": "code",
   "execution_count": 72,
   "metadata": {},
   "outputs": [],
   "source": [
    "%%capture\n",
    "fig, ax = plt.subplots(5, sharex=True, figsize=(16,9))\n",
    "fig.align_ylabels()\n",
    "\n",
    "for g in [sim_graphics,mpc_graphics]:\n",
    "    # Plot the state on axis 1 to 4:\n",
    "    g.add_line(var_type='_x', var_name='X_s', axis=ax[0], color='#1f77b4')\n",
    "    g.add_line(var_type='_x', var_name='S_s', axis=ax[1], color='#1f77b4')\n",
    "    g.add_line(var_type='_x', var_name='P_s', axis=ax[2], color='#1f77b4')\n",
    "    g.add_line(var_type='_x', var_name='V_s', axis=ax[3], color='#1f77b4')\n",
    "\n",
    "    # Plot the control input on axis 5:\n",
    "    g.add_line(var_type='_u', var_name='inp', axis=ax[4], color='#1f77b4')\n",
    "\n",
    "\n",
    "ax[0].set_ylabel(\"mole/litre\")\n",
    "ax[1].set_ylabel(\"mole/litre\")\n",
    "ax[2].set_ylabel(\"mole/litre\")\n",
    "ax[3].set_ylabel(\"mole/litre\")\n",
    "ax[4].set_ylabel(\"mole/litre\")\n",
    "ax[4].set_xlabel(\"mole/litre\")"
   ]
  },
  {
   "cell_type": "code",
   "execution_count": 73,
   "metadata": {},
   "outputs": [],
   "source": [
    "%%capture\n",
    "n_steps = 100\n",
    "for k in range(n_steps):\n",
    "    u0 = mpc.make_step(x0)\n",
    "    y_next = simulator.make_step(u0)\n",
    "    x0 = estimator.make_step(y_next)"
   ]
  },
  {
   "cell_type": "code",
   "execution_count": 77,
   "metadata": {},
   "outputs": [
    {
     "name": "stderr",
     "output_type": "stream",
     "text": [
      "MovieWriter stderr:\n",
      "convert-im6.q16: cache resources exhausted `anim_batch_reactor_final2.gif' @ error/cache.c/OpenPixelCache/4095.\n",
      "convert-im6.q16: memory allocation failed `anim_batch_reactor_final2.gif' @ error/quantize.c/AssignImageColors/498.\n",
      "\n"
     ]
    },
    {
     "ename": "CalledProcessError",
     "evalue": "Command '['convert', '-size', '1600x900', '-depth', '8', '-delay', '20.0', '-loop', '0', 'rgba:-', 'anim_batch_reactor_final2.gif']' returned non-zero exit status 1.",
     "output_type": "error",
     "traceback": [
      "\u001b[0;31m---------------------------------------------------------------------------\u001b[0m",
      "\u001b[0;31mCalledProcessError\u001b[0m                        Traceback (most recent call last)",
      "Cell \u001b[0;32mIn[77], line 12\u001b[0m\n\u001b[1;32m     10\u001b[0m anim \u001b[39m=\u001b[39m FuncAnimation(fig, update, frames\u001b[39m=\u001b[39mn_steps, repeat\u001b[39m=\u001b[39m\u001b[39mFalse\u001b[39;00m)\n\u001b[1;32m     11\u001b[0m gif_writer \u001b[39m=\u001b[39m ImageMagickWriter(fps\u001b[39m=\u001b[39m\u001b[39m5\u001b[39m)\n\u001b[0;32m---> 12\u001b[0m anim\u001b[39m.\u001b[39;49msave(\u001b[39m'\u001b[39;49m\u001b[39manim_batch_reactor_final2.gif\u001b[39;49m\u001b[39m'\u001b[39;49m, writer\u001b[39m=\u001b[39;49mgif_writer)\n",
      "File \u001b[0;32m~/.local/lib/python3.10/site-packages/matplotlib/animation.py:1071\u001b[0m, in \u001b[0;36mAnimation.save\u001b[0;34m(self, filename, writer, fps, dpi, codec, bitrate, extra_args, metadata, extra_anim, savefig_kwargs, progress_callback)\u001b[0m\n\u001b[1;32m   1065\u001b[0m     _log\u001b[39m.\u001b[39minfo(\u001b[39m\"\u001b[39m\u001b[39mDisabling savefig.bbox = \u001b[39m\u001b[39m'\u001b[39m\u001b[39mtight\u001b[39m\u001b[39m'\u001b[39m\u001b[39m, as it may cause \u001b[39m\u001b[39m\"\u001b[39m\n\u001b[1;32m   1066\u001b[0m               \u001b[39m\"\u001b[39m\u001b[39mframe size to vary, which is inappropriate for \u001b[39m\u001b[39m\"\u001b[39m\n\u001b[1;32m   1067\u001b[0m               \u001b[39m\"\u001b[39m\u001b[39manimation.\u001b[39m\u001b[39m\"\u001b[39m)\n\u001b[1;32m   1068\u001b[0m \u001b[39m# canvas._is_saving = True makes the draw_event animation-starting\u001b[39;00m\n\u001b[1;32m   1069\u001b[0m \u001b[39m# callback a no-op; canvas.manager = None prevents resizing the GUI\u001b[39;00m\n\u001b[1;32m   1070\u001b[0m \u001b[39m# widget (both are likewise done in savefig()).\u001b[39;00m\n\u001b[0;32m-> 1071\u001b[0m \u001b[39mwith\u001b[39;00m mpl\u001b[39m.\u001b[39mrc_context({\u001b[39m'\u001b[39m\u001b[39msavefig.bbox\u001b[39m\u001b[39m'\u001b[39m: \u001b[39mNone\u001b[39;00m}), \\\n\u001b[1;32m   1072\u001b[0m      writer\u001b[39m.\u001b[39msaving(\u001b[39mself\u001b[39m\u001b[39m.\u001b[39m_fig, filename, dpi), \\\n\u001b[1;32m   1073\u001b[0m      cbook\u001b[39m.\u001b[39m_setattr_cm(\u001b[39mself\u001b[39m\u001b[39m.\u001b[39m_fig\u001b[39m.\u001b[39mcanvas,\n\u001b[1;32m   1074\u001b[0m                        _is_saving\u001b[39m=\u001b[39m\u001b[39mTrue\u001b[39;00m, manager\u001b[39m=\u001b[39m\u001b[39mNone\u001b[39;00m):\n\u001b[1;32m   1075\u001b[0m     \u001b[39mfor\u001b[39;00m anim \u001b[39min\u001b[39;00m all_anim:\n\u001b[1;32m   1076\u001b[0m         anim\u001b[39m.\u001b[39m_init_draw()  \u001b[39m# Clear the initial frame\u001b[39;00m\n",
      "File \u001b[0;32m/usr/lib/python3.10/contextlib.py:142\u001b[0m, in \u001b[0;36m_GeneratorContextManager.__exit__\u001b[0;34m(self, typ, value, traceback)\u001b[0m\n\u001b[1;32m    140\u001b[0m \u001b[39mif\u001b[39;00m typ \u001b[39mis\u001b[39;00m \u001b[39mNone\u001b[39;00m:\n\u001b[1;32m    141\u001b[0m     \u001b[39mtry\u001b[39;00m:\n\u001b[0;32m--> 142\u001b[0m         \u001b[39mnext\u001b[39;49m(\u001b[39mself\u001b[39;49m\u001b[39m.\u001b[39;49mgen)\n\u001b[1;32m    143\u001b[0m     \u001b[39mexcept\u001b[39;00m \u001b[39mStopIteration\u001b[39;00m:\n\u001b[1;32m    144\u001b[0m         \u001b[39mreturn\u001b[39;00m \u001b[39mFalse\u001b[39;00m\n",
      "File \u001b[0;32m~/.local/lib/python3.10/site-packages/matplotlib/animation.py:236\u001b[0m, in \u001b[0;36mAbstractMovieWriter.saving\u001b[0;34m(self, fig, outfile, dpi, *args, **kwargs)\u001b[0m\n\u001b[1;32m    234\u001b[0m     \u001b[39myield\u001b[39;00m \u001b[39mself\u001b[39m\n\u001b[1;32m    235\u001b[0m \u001b[39mfinally\u001b[39;00m:\n\u001b[0;32m--> 236\u001b[0m     \u001b[39mself\u001b[39;49m\u001b[39m.\u001b[39;49mfinish()\n",
      "File \u001b[0;32m~/.local/lib/python3.10/site-packages/matplotlib/animation.py:342\u001b[0m, in \u001b[0;36mMovieWriter.finish\u001b[0;34m(self)\u001b[0m\n\u001b[1;32m    340\u001b[0m     overridden_cleanup()\n\u001b[1;32m    341\u001b[0m \u001b[39melse\u001b[39;00m:\n\u001b[0;32m--> 342\u001b[0m     \u001b[39mself\u001b[39;49m\u001b[39m.\u001b[39;49m_cleanup()\n",
      "File \u001b[0;32m~/.local/lib/python3.10/site-packages/matplotlib/animation.py:373\u001b[0m, in \u001b[0;36mMovieWriter._cleanup\u001b[0;34m(self)\u001b[0m\n\u001b[1;32m    369\u001b[0m     _log\u001b[39m.\u001b[39mlog(\n\u001b[1;32m    370\u001b[0m         logging\u001b[39m.\u001b[39mWARNING \u001b[39mif\u001b[39;00m \u001b[39mself\u001b[39m\u001b[39m.\u001b[39m_proc\u001b[39m.\u001b[39mreturncode \u001b[39melse\u001b[39;00m logging\u001b[39m.\u001b[39mDEBUG,\n\u001b[1;32m    371\u001b[0m         \u001b[39m\"\u001b[39m\u001b[39mMovieWriter stderr:\u001b[39m\u001b[39m\\n\u001b[39;00m\u001b[39m%s\u001b[39;00m\u001b[39m\"\u001b[39m, err)\n\u001b[1;32m    372\u001b[0m \u001b[39mif\u001b[39;00m \u001b[39mself\u001b[39m\u001b[39m.\u001b[39m_proc\u001b[39m.\u001b[39mreturncode:\n\u001b[0;32m--> 373\u001b[0m     \u001b[39mraise\u001b[39;00m subprocess\u001b[39m.\u001b[39mCalledProcessError(\n\u001b[1;32m    374\u001b[0m         \u001b[39mself\u001b[39m\u001b[39m.\u001b[39m_proc\u001b[39m.\u001b[39mreturncode, \u001b[39mself\u001b[39m\u001b[39m.\u001b[39m_proc\u001b[39m.\u001b[39margs, out, err)\n",
      "\u001b[0;31mCalledProcessError\u001b[0m: Command '['convert', '-size', '1600x900', '-depth', '8', '-delay', '20.0', '-loop', '0', 'rgba:-', 'anim_batch_reactor_final2.gif']' returned non-zero exit status 1."
     ]
    }
   ],
   "source": [
    "from matplotlib.animation import FuncAnimation, FFMpegWriter, ImageMagickWriter\n",
    "\n",
    "# The function describing the gif:\n",
    "def update(t_ind):\n",
    "    sim_graphics.plot_results(t_ind)\n",
    "    mpc_graphics.plot_predictions(t_ind)\n",
    "    mpc_graphics.reset_axes()\n",
    "\n",
    "if True:\n",
    "    anim = FuncAnimation(fig, update, frames=n_steps, repeat=False)\n",
    "    gif_writer = ImageMagickWriter(fps=5)\n",
    "    anim.save('anim_batch_reactor_final2.gif', writer=gif_writer)"
   ]
  },
  {
   "cell_type": "code",
   "execution_count": 76,
   "metadata": {},
   "outputs": [],
   "source": [
    "fig.savefig(\"plotexample.png\")"
   ]
  },
  {
   "cell_type": "code",
   "execution_count": null,
   "metadata": {},
   "outputs": [],
   "source": []
  }
 ],
 "metadata": {
  "kernelspec": {
   "display_name": "Python 3",
   "language": "python",
   "name": "python3"
  },
  "language_info": {
   "codemirror_mode": {
    "name": "ipython",
    "version": 3
   },
   "file_extension": ".py",
   "mimetype": "text/x-python",
   "name": "python",
   "nbconvert_exporter": "python",
   "pygments_lexer": "ipython3",
   "version": "3.10.12"
  },
  "orig_nbformat": 4
 },
 "nbformat": 4,
 "nbformat_minor": 2
}
